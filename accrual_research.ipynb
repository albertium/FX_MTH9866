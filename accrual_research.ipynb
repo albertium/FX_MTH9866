{
 "cells": [
  {
   "cell_type": "code",
   "execution_count": 2,
   "metadata": {},
   "outputs": [],
   "source": [
    "%load_ext autoreload\n",
    "%autoreload 2\n",
    "%matplotlib inline"
   ]
  },
  {
   "cell_type": "code",
   "execution_count": 193,
   "metadata": {},
   "outputs": [],
   "source": [
    "import pandas as pd\n",
    "import numpy as np\n",
    "from accrual import process_crsp, process_crsp2, process_crsp3, process_compustat, merge_data, backtest"
   ]
  },
  {
   "cell_type": "code",
   "execution_count": null,
   "metadata": {},
   "outputs": [
    {
     "name": "stdout",
     "output_type": "stream",
     "text": [
      "Total rows: 4335433\n",
      "1950-01-31 00:00:00 to 2018-12-31 00:00:00\n",
      "Remove all NAs: 4304938 (99.30%)\n",
      "Remove Zs: 4302309 (99.24%)\n",
      "Remove financials: 3168271 (73.08%)\n",
      "Remove delisted rows: 3081542 (71.08%)\n",
      "Remove duplicated rows: 3065321 (70.70%)\n",
      "Duplicated for key [PERMNO, date]: 0\n"
     ]
    }
   ],
   "source": [
    "data = process_crsp('data/crsp_monthly2.gz')"
   ]
  },
  {
   "cell_type": "code",
   "execution_count": 521,
   "metadata": {
    "scrolled": true
   },
   "outputs": [
    {
     "name": "stdout",
     "output_type": "stream",
     "text": [
      "Total rows: 302087\n",
      "1950-06-30 00:00:00 to 2018-12-31 00:00:00\n",
      "Drop NAs: 232651 (77.01%)\n",
      "Duplicated permno date: 0\n",
      "Zero total asset: 23\n",
      "Drop zero AT: 232628 (77.01%)\n",
      "Merged with previous total asset: 211988 (70.17%)\n",
      "Final rows: 211988 (70.17%)\n"
     ]
    }
   ],
   "source": [
    "funda = process_compustat('data/compustat_annual.gz')"
   ]
  },
  {
   "cell_type": "code",
   "execution_count": 36,
   "metadata": {},
   "outputs": [
    {
     "name": "stdout",
     "output_type": "stream",
     "text": [
      "Total rows: 276015\n",
      "Valid PERMNO: 254461 (92.19%)\n",
      "Merged: 254461 (92.19%)\n",
      "Filled: 254461 (92.19%)\n",
      "Drop NAs: 211696 (76.70%)\n"
     ]
    }
   ],
   "source": [
    "merged = merge_data(data.reset_index(), funda)"
   ]
  },
  {
   "cell_type": "code",
   "execution_count": 99,
   "metadata": {},
   "outputs": [],
   "source": [
    "equity = backtest(merged)"
   ]
  },
  {
   "cell_type": "code",
   "execution_count": 100,
   "metadata": {
    "scrolled": true
   },
   "outputs": [
    {
     "data": {
      "text/plain": [
       "<matplotlib.axes._subplots.AxesSubplot at 0x1bee57390b8>"
      ]
     },
     "execution_count": 100,
     "metadata": {},
     "output_type": "execute_result"
    },
    {
     "data": {
      "image/png": "[encoded data removed]",
      "text/plain": [
       "<Figure size 432x288 with 1 Axes>"
      ]
     },
     "metadata": {
      "needs_background": "light"
     },
     "output_type": "display_data"
    }
   ],
   "source": [
    "pd.DataFrame({'equity': (np.array(equity) + 1).cumprod()}).plot()"
   ]
  },
  {
   "cell_type": "markdown",
   "metadata": {},
   "source": [
    "# New Procedure"
   ]
  },
  {
   "cell_type": "code",
   "execution_count": 13,
   "metadata": {},
   "outputs": [
    {
     "name": "stdout",
     "output_type": "stream",
     "text": [
      "Total rows: 3238267\n",
      "1960-01-29 to 2018-12-31\n",
      "Check missing\n",
      "    date missing: 0 (0.00%)\n",
      "    permno missing: 0 (0.00%)\n",
      "    siccd missing: 0 (0.00%)\n",
      "    ret missing: 95761 (2.96%)\n",
      "Remove NAs: 3142506 (97.04%)\n",
      "Remove financials: 2597216 (80.20%)\n",
      "Duplicated for key [permno, date]: 0\n",
      "After next return: 2573195 (79.46%)\n"
     ]
    }
   ],
   "source": [
    "crsp = process_crsp2('data/new_crsp')"
   ]
  },
  {
   "cell_type": "code",
   "execution_count": 31,
   "metadata": {
    "scrolled": true
   },
   "outputs": [
    {
     "name": "stdout",
     "output_type": "stream",
     "text": [
      "Total rows: 302087\n",
      "1950-06-30 00:00:00 to 2018-12-31 00:00:00\n",
      "Drop NAs: 232771 (77.05%)\n",
      "Duplicated permno date: 0\n",
      "Zero total asset: 23\n",
      "Drop zero AT: 232748 (77.05%)\n",
      "Merged with previous total asset: 212008 (70.18%)\n",
      "Final rows: 212008 (70.18%)\n"
     ]
    }
   ],
   "source": [
    "funda = process_compustat('data/new_compustat')"
   ]
  },
  {
   "cell_type": "code",
   "execution_count": 32,
   "metadata": {},
   "outputs": [],
   "source": [
    "crsp['year'] = crsp.join_date.dt.year\n",
    "crsp = crsp[(crsp.year >= 1962) & (crsp.year <= 2001)]\n",
    "funda = funda[(funda.year >= 1962) & (funda.year <= 2001)]"
   ]
  },
  {
   "cell_type": "code",
   "execution_count": 33,
   "metadata": {},
   "outputs": [
    {
     "data": {
      "text/plain": [
       "(126442, 2)"
      ]
     },
     "execution_count": 33,
     "metadata": {},
     "output_type": "execute_result"
    }
   ],
   "source": [
    "index = ['permno', 'year']\n",
    "check = pd.merge(crsp, funda[index], on=index, how='inner')\n",
    "check[['year', 'permno']].drop_duplicates().shape"
   ]
  },
  {
   "cell_type": "code",
   "execution_count": 36,
   "metadata": {},
   "outputs": [
    {
     "name": "stdout",
     "output_type": "stream",
     "text": [
      "After merged with fundamental: 1456653 (78.18%)\n"
     ]
    }
   ],
   "source": [
    "index = ['permno', 'join_date']\n",
    "joined = pd.merge(crsp, funda[index + ['dwc', 'dnco', 'dnoa', 'dfin', 'tacc']], on=index, how='left')\n",
    "joined = joined.groupby('permno', as_index=False).fillna(method='ffill').dropna()\n",
    "print(f'After merged with fundamental: {joined.shape[0]} ({joined.shape[0] / crsp.shape[0]:.2%})')"
   ]
  },
  {
   "cell_type": "code",
   "execution_count": 37,
   "metadata": {},
   "outputs": [
    {
     "data": {
      "text/plain": [
       "(135630, 2)"
      ]
     },
     "execution_count": 37,
     "metadata": {},
     "output_type": "execute_result"
    }
   ],
   "source": [
    "joined['year'] = joined.join_date.dt.year\n",
    "joined[['year', 'permno']].drop_duplicates().shape"
   ]
  },
  {
   "cell_type": "code",
   "execution_count": 38,
   "metadata": {},
   "outputs": [],
   "source": [
    "for col in ['dwc', 'dnco', 'dnoa', 'tacc']:\n",
    "    joined[col[1:] + '_r'] = joined.groupby('join_date', as_index=False)[col].transform(lambda x: pd.qcut(x, 10, range(10)))"
   ]
  },
  {
   "cell_type": "code",
   "execution_count": 43,
   "metadata": {
    "scrolled": true
   },
   "outputs": [
    {
     "data": {
      "text/plain": [
       "nco_r\n",
       "year      1981.500000\n",
       "0            1.242876\n",
       "1            1.246651\n",
       "2            1.216011\n",
       "3            1.188759\n",
       "4            1.166705\n",
       "5            1.152784\n",
       "6            1.144934\n",
       "7            1.137294\n",
       "8            1.110792\n",
       "9            1.066497\n",
       "hedged       0.176379\n",
       "dtype: float64"
      ]
     },
     "execution_count": 43,
     "metadata": {},
     "output_type": "execute_result"
    }
   ],
   "source": [
    "rank = 'nco_r'\n",
    "port_ret = joined.groupby([rank, 'join_date'], as_index=False).next_ret.mean()\n",
    "port_ret['cum'] = port_ret.next_ret + 1\n",
    "port_ret['year'] = port_ret.join_date.dt.year\n",
    "annual = port_ret.groupby([rank, 'year'], as_index=False).cum.prod()\n",
    "annual = annual.pivot(index='year', columns=rank, values='cum').reset_index()\n",
    "annual['hedged'] = annual[0] - annual[9]\n",
    "annual[annual.year <= 2001].mean()"
   ]
  },
  {
   "cell_type": "markdown",
   "metadata": {},
   "source": [
    "# replicate size adjust return"
   ]
  },
  {
   "cell_type": "code",
   "execution_count": 132,
   "metadata": {},
   "outputs": [
    {
     "name": "stdout",
     "output_type": "stream",
     "text": [
      "Total rows: 3238267\n",
      "1960-01-29 to 2018-12-31\n",
      "Check missing\n",
      "    date missing: 0 (0.00%)\n",
      "    permno missing: 0 (0.00%)\n",
      "    siccd missing: 0 (0.00%)\n",
      "    ret missing: 95761 (2.96%)\n",
      "    cap missing: 71070 (2.19%)\n",
      "Remove NAs: 3142409 (97.04%)\n",
      "Remove financials: 2597119 (80.20%)\n",
      "Duplicated for key [permno, date]: 0\n"
     ]
    }
   ],
   "source": [
    "crsp = process_crsp2('data/new_crsp')\n",
    "crsp['year'] = crsp.join_date.dt.year\n",
    "crsp = crsp[(crsp.cap > 0) & (crsp.year >= 1962) & (crsp.year <= 2001)]\n",
    "crsp['rel'] = 1 + crsp.ret\n",
    "annual = crsp.groupby(['permno', 'year'], as_index=False).agg({'cap': 'last', 'rel': 'prod'})\n",
    "annual.rel = annual.rel - 1\n",
    "annual['next_year'] = annual.year + 1\n",
    "annual = pd.merge(annual, annual[['permno', 'year', 'rel']], left_on=['permno', 'next_year'], right_on=['permno', 'year'])\n",
    "annual = annual.drop(['year_y', 'rel_x'], axis=1).rename({'rel_y': 'ret', 'year_x': 'year'}, axis=1)"
   ]
  },
  {
   "cell_type": "code",
   "execution_count": 133,
   "metadata": {},
   "outputs": [
    {
     "data": {
      "text/html": [
       "<div>\n",
       "<style scoped>\n",
       "    .dataframe tbody tr th:only-of-type {\n",
       "        vertical-align: middle;\n",
       "    }\n",
       "\n",
       "    .dataframe tbody tr th {\n",
       "        vertical-align: top;\n",
       "    }\n",
       "\n",
       "    .dataframe thead th {\n",
       "        text-align: right;\n",
       "    }\n",
       "</style>\n",
       "<table border=\"1\" class=\"dataframe\">\n",
       "  <thead>\n",
       "    <tr style=\"text-align: right;\">\n",
       "      <th></th>\n",
       "      <th>permno</th>\n",
       "      <th>year</th>\n",
       "      <th>cap</th>\n",
       "      <th>next_year</th>\n",
       "      <th>ret</th>\n",
       "    </tr>\n",
       "  </thead>\n",
       "  <tbody>\n",
       "    <tr>\n",
       "      <th>0</th>\n",
       "      <td>10000</td>\n",
       "      <td>1986</td>\n",
       "      <td>1.981547</td>\n",
       "      <td>1987</td>\n",
       "      <td>-0.575758</td>\n",
       "    </tr>\n",
       "    <tr>\n",
       "      <th>1</th>\n",
       "      <td>10001</td>\n",
       "      <td>1986</td>\n",
       "      <td>6.937000</td>\n",
       "      <td>1987</td>\n",
       "      <td>-0.101275</td>\n",
       "    </tr>\n",
       "    <tr>\n",
       "      <th>2</th>\n",
       "      <td>10001</td>\n",
       "      <td>1987</td>\n",
       "      <td>5.828000</td>\n",
       "      <td>1988</td>\n",
       "      <td>0.163160</td>\n",
       "    </tr>\n",
       "    <tr>\n",
       "      <th>3</th>\n",
       "      <td>10001</td>\n",
       "      <td>1988</td>\n",
       "      <td>6.362250</td>\n",
       "      <td>1989</td>\n",
       "      <td>0.687923</td>\n",
       "    </tr>\n",
       "    <tr>\n",
       "      <th>4</th>\n",
       "      <td>10001</td>\n",
       "      <td>1989</td>\n",
       "      <td>10.347750</td>\n",
       "      <td>1990</td>\n",
       "      <td>-0.008721</td>\n",
       "    </tr>\n",
       "  </tbody>\n",
       "</table>\n",
       "</div>"
      ],
      "text/plain": [
       "   permno  year        cap  next_year       ret\n",
       "0   10000  1986   1.981547       1987 -0.575758\n",
       "1   10001  1986   6.937000       1987 -0.101275\n",
       "2   10001  1987   5.828000       1988  0.163160\n",
       "3   10001  1988   6.362250       1989  0.687923\n",
       "4   10001  1989  10.347750       1990 -0.008721"
      ]
     },
     "execution_count": 133,
     "metadata": {},
     "output_type": "execute_result"
    }
   ],
   "source": [
    "annual.head()"
   ]
  },
  {
   "cell_type": "code",
   "execution_count": 134,
   "metadata": {},
   "outputs": [],
   "source": [
    "annual['size_r'] = annual.groupby('year', as_index=False).cap.transform(lambda x: pd.qcut(x, 10, range(10)))"
   ]
  },
  {
   "cell_type": "code",
   "execution_count": 136,
   "metadata": {},
   "outputs": [
    {
     "name": "stdout",
     "output_type": "stream",
     "text": [
      "390\n",
      "151970\n"
     ]
    }
   ],
   "source": [
    "annual['wgt_ret'] = annual.cap * annual.ret\n",
    "size_ret = annual.groupby(['year', 'size_r'], as_index=False).agg({'wgt_ret': 'sum', 'cap': 'sum'})\n",
    "size_ret['ret'] = size_ret.wgt_ret / size_ret.cap\n",
    "size_adj = pd.merge(annual, size_ret[['year', 'size_r', 'ret']], on=['year', 'size_r'])\n",
    "size_adj['adj_ret'] = size_adj.ret_x - size_adj.ret_y\n",
    "print(size_ret.shape[0])\n",
    "print(size_adj.shape[0])"
   ]
  },
  {
   "cell_type": "code",
   "execution_count": 142,
   "metadata": {},
   "outputs": [],
   "source": [
    "tmp_fund = funda.sort_values(['permno', 'join_date']).groupby(['permno', 'year'], as_index=False).last()"
   ]
  },
  {
   "cell_type": "code",
   "execution_count": 144,
   "metadata": {},
   "outputs": [],
   "source": [
    "index = ['permno', 'year']\n",
    "joined = pd.merge(size_adj, tmp_fund[index + ['dwc', 'dnco', 'dnoa', 'dfin', 'tacc']], on=index, how='inner')\n",
    "# joined = joined.groupby('permno', as_index=False).fillna(method='ffill').dropna()"
   ]
  },
  {
   "cell_type": "code",
   "execution_count": 146,
   "metadata": {},
   "outputs": [],
   "source": [
    "for col in ['dwc', 'dnco', 'dnoa', 'tacc']:\n",
    "    joined[col[1:] + '_r'] = joined.groupby('year', as_index=False)[col].transform(lambda x: pd.qcut(x, 10, range(10)))"
   ]
  },
  {
   "cell_type": "code",
   "execution_count": 157,
   "metadata": {
    "scrolled": true
   },
   "outputs": [
    {
     "data": {
      "text/plain": [
       "nco_r\n",
       "year      1981.000000\n",
       "0            0.066441\n",
       "1            0.055908\n",
       "2            0.059244\n",
       "3            0.041181\n",
       "4            0.024703\n",
       "5            0.013346\n",
       "6            0.009412\n",
       "7            0.004933\n",
       "8           -0.016137\n",
       "9           -0.062436\n",
       "hedged       0.128876\n",
       "dtype: float64"
      ]
     },
     "execution_count": 157,
     "metadata": {},
     "output_type": "execute_result"
    }
   ],
   "source": [
    "rank = 'nco_r'\n",
    "ret_col = 'adj_ret'\n",
    "port_ret = joined.groupby([rank, 'year'], as_index=False)[ret_col].mean()\n",
    "port_ret = port_ret.pivot(index='year', columns=rank, values=ret_col).reset_index()\n",
    "port_ret['hedged'] = port_ret[0] - port_ret[9]\n",
    "port_ret.mean()"
   ]
  },
  {
   "cell_type": "code",
   "execution_count": 162,
   "metadata": {},
   "outputs": [
    {
     "data": {
      "text/plain": [
       "<matplotlib.axes._subplots.AxesSubplot at 0x1ea80c69cc0>"
      ]
     },
     "execution_count": 162,
     "metadata": {},
     "output_type": "execute_result"
    },
    {
     "data": {
      "image/png": "[encoded data removed]",
      "text/plain": [
       "<Figure size 432x288 with 1 Axes>"
      ]
     },
     "metadata": {
      "needs_background": "light"
     },
     "output_type": "display_data"
    }
   ],
   "source": [
    "port_ret.set_index('year').hedged.plot(kind='bar')"
   ]
  },
  {
   "cell_type": "markdown",
   "metadata": {},
   "source": [
    "# End of Replication"
   ]
  },
  {
   "cell_type": "markdown",
   "metadata": {},
   "source": [
    "# Formal June Split"
   ]
  },
  {
   "cell_type": "code",
   "execution_count": 212,
   "metadata": {},
   "outputs": [
    {
     "name": "stdout",
     "output_type": "stream",
     "text": [
      "Total rows: 3238267\n",
      "1960-01-29 to 2018-12-31\n",
      "Check missing\n",
      "    date missing: 0 (0.00%)\n",
      "    permno missing: 0 (0.00%)\n",
      "    siccd missing: 0 (0.00%)\n",
      "    ret missing: 95761 (2.96%)\n",
      "    cap missing: 71070 (2.19%)\n",
      "Remove NAs: 3142409 (97.04%)\n",
      "Remove financials: 2597119 (80.20%)\n",
      "Duplicated for key [permno, date]: 0\n",
      "172537\n"
     ]
    }
   ],
   "source": [
    "crsp = process_crsp3('data/new_crsp')\n",
    "crsp['rel'] = 1 + crsp.ret\n",
    "crsp = crsp.groupby(['permno', 'year'], as_index=False).agg({'rel': 'prod', 'cap': 'first'})\n",
    "crsp = crsp[(crsp.year >= 1962) & (crsp.year <= 2001)]\n",
    "print(crsp.shape[0])"
   ]
  },
  {
   "cell_type": "code",
   "execution_count": 214,
   "metadata": {},
   "outputs": [
    {
     "name": "stdout",
     "output_type": "stream",
     "text": [
      "Total rows: 302087\n",
      "1950-06-30 00:00:00 to 2018-12-31 00:00:00\n",
      "Drop NAs: 232771 (77.05%)\n",
      "Duplicated permno date: 0\n",
      "Zero total asset: 23\n",
      "Drop zero AT: 232748 (77.05%)\n",
      "Merged with previous total asset: 212008 (70.18%)\n",
      "Final rows: 212008 (70.18%)\n",
      "141429\n"
     ]
    }
   ],
   "source": [
    "funda = process_compustat('data/new_compustat')\n",
    "funda = funda[(funda.year >= 1962) & (funda.year <= 2001)]\n",
    "print(funda.shape[0])"
   ]
  },
  {
   "cell_type": "code",
   "execution_count": 215,
   "metadata": {},
   "outputs": [
    {
     "data": {
      "text/html": [
       "<div>\n",
       "<style scoped>\n",
       "    .dataframe tbody tr th:only-of-type {\n",
       "        vertical-align: middle;\n",
       "    }\n",
       "\n",
       "    .dataframe tbody tr th {\n",
       "        vertical-align: top;\n",
       "    }\n",
       "\n",
       "    .dataframe thead th {\n",
       "        text-align: right;\n",
       "    }\n",
       "</style>\n",
       "<table border=\"1\" class=\"dataframe\">\n",
       "  <thead>\n",
       "    <tr style=\"text-align: right;\">\n",
       "      <th></th>\n",
       "      <th>permno</th>\n",
       "      <th>date</th>\n",
       "      <th>act</th>\n",
       "      <th>at</th>\n",
       "      <th>che</th>\n",
       "      <th>dlc</th>\n",
       "      <th>dltt</th>\n",
       "      <th>ivao</th>\n",
       "      <th>ivst</th>\n",
       "      <th>lct</th>\n",
       "      <th>...</th>\n",
       "      <th>fin</th>\n",
       "      <th>avg_at</th>\n",
       "      <th>roa</th>\n",
       "      <th>dwc</th>\n",
       "      <th>dnco</th>\n",
       "      <th>dnoa</th>\n",
       "      <th>dfin</th>\n",
       "      <th>tacc</th>\n",
       "      <th>year</th>\n",
       "      <th>join_date</th>\n",
       "    </tr>\n",
       "  </thead>\n",
       "  <tbody>\n",
       "  </tbody>\n",
       "</table>\n",
       "<p>0 rows × 32 columns</p>\n",
       "</div>"
      ],
      "text/plain": [
       "Empty DataFrame\n",
       "Columns: [permno, date, act, at, che, dlc, dltt, ivao, ivst, lct, lt, oiadp, pstk, sale, coa, col, wc, ncoa, ncol, nco, fina, finl, fin, avg_at, roa, dwc, dnco, dnoa, dfin, tacc, year, join_date]\n",
       "Index: []\n",
       "\n",
       "[0 rows x 32 columns]"
      ]
     },
     "execution_count": 215,
     "metadata": {},
     "output_type": "execute_result"
    }
   ],
   "source": [
    "funda.head(0)"
   ]
  },
  {
   "cell_type": "code",
   "execution_count": 187,
   "metadata": {},
   "outputs": [
    {
     "data": {
      "text/html": [
       "<div>\n",
       "<style scoped>\n",
       "    .dataframe tbody tr th:only-of-type {\n",
       "        vertical-align: middle;\n",
       "    }\n",
       "\n",
       "    .dataframe tbody tr th {\n",
       "        vertical-align: top;\n",
       "    }\n",
       "\n",
       "    .dataframe thead th {\n",
       "        text-align: right;\n",
       "    }\n",
       "</style>\n",
       "<table border=\"1\" class=\"dataframe\">\n",
       "  <thead>\n",
       "    <tr style=\"text-align: right;\">\n",
       "      <th></th>\n",
       "      <th>GVKEY_x</th>\n",
       "      <th>permno</th>\n",
       "      <th>date</th>\n",
       "      <th>fyear</th>\n",
       "      <th>indfmt</th>\n",
       "      <th>consol</th>\n",
       "      <th>popsrc</th>\n",
       "      <th>datafmt</th>\n",
       "      <th>conm</th>\n",
       "      <th>curcd</th>\n",
       "      <th>...</th>\n",
       "      <th>ivst</th>\n",
       "      <th>lct</th>\n",
       "      <th>lt</th>\n",
       "      <th>oiadp</th>\n",
       "      <th>pstk</th>\n",
       "      <th>sale</th>\n",
       "      <th>costat</th>\n",
       "      <th>sic</th>\n",
       "      <th>year</th>\n",
       "      <th>GVKEY_y</th>\n",
       "    </tr>\n",
       "  </thead>\n",
       "  <tbody>\n",
       "    <tr>\n",
       "      <th>0</th>\n",
       "      <td>1302</td>\n",
       "      <td>22074</td>\n",
       "      <td>1987-06-30</td>\n",
       "      <td>1987.0</td>\n",
       "      <td>INDL</td>\n",
       "      <td>C</td>\n",
       "      <td>D</td>\n",
       "      <td>STD</td>\n",
       "      <td>ALLIED SUPERMARKETS</td>\n",
       "      <td>USD</td>\n",
       "      <td>...</td>\n",
       "      <td>95.676</td>\n",
       "      <td>3.724</td>\n",
       "      <td>86.117</td>\n",
       "      <td>7.159</td>\n",
       "      <td>0.000</td>\n",
       "      <td>420.579</td>\n",
       "      <td>I</td>\n",
       "      <td>5411</td>\n",
       "      <td>1987</td>\n",
       "      <td>2</td>\n",
       "    </tr>\n",
       "    <tr>\n",
       "      <th>1</th>\n",
       "      <td>14152</td>\n",
       "      <td>22074</td>\n",
       "      <td>1987-12-31</td>\n",
       "      <td>1987.0</td>\n",
       "      <td>INDL</td>\n",
       "      <td>C</td>\n",
       "      <td>D</td>\n",
       "      <td>STD</td>\n",
       "      <td>VONS COMPANIES INC</td>\n",
       "      <td>USD</td>\n",
       "      <td>...</td>\n",
       "      <td>NaN</td>\n",
       "      <td>310.300</td>\n",
       "      <td>902.600</td>\n",
       "      <td>NaN</td>\n",
       "      <td>0.000</td>\n",
       "      <td>NaN</td>\n",
       "      <td>I</td>\n",
       "      <td>5411</td>\n",
       "      <td>1987</td>\n",
       "      <td>2</td>\n",
       "    </tr>\n",
       "    <tr>\n",
       "      <th>2</th>\n",
       "      <td>5184</td>\n",
       "      <td>67563</td>\n",
       "      <td>1998-06-30</td>\n",
       "      <td>1998.0</td>\n",
       "      <td>INDL</td>\n",
       "      <td>C</td>\n",
       "      <td>D</td>\n",
       "      <td>STD</td>\n",
       "      <td>GOLDEN STATE BANCORP INC-OLD</td>\n",
       "      <td>USD</td>\n",
       "      <td>...</td>\n",
       "      <td>174.200</td>\n",
       "      <td>NaN</td>\n",
       "      <td>16878.060</td>\n",
       "      <td>286.934</td>\n",
       "      <td>4.617</td>\n",
       "      <td>1262.833</td>\n",
       "      <td>I</td>\n",
       "      <td>6035</td>\n",
       "      <td>1998</td>\n",
       "      <td>2</td>\n",
       "    </tr>\n",
       "    <tr>\n",
       "      <th>3</th>\n",
       "      <td>116144</td>\n",
       "      <td>67563</td>\n",
       "      <td>1998-12-31</td>\n",
       "      <td>1998.0</td>\n",
       "      <td>INDL</td>\n",
       "      <td>C</td>\n",
       "      <td>D</td>\n",
       "      <td>STD</td>\n",
       "      <td>GOLDEN STATE BANCORP INC</td>\n",
       "      <td>USD</td>\n",
       "      <td>...</td>\n",
       "      <td>52.671</td>\n",
       "      <td>NaN</td>\n",
       "      <td>52693.768</td>\n",
       "      <td>425.416</td>\n",
       "      <td>0.000</td>\n",
       "      <td>2916.987</td>\n",
       "      <td>I</td>\n",
       "      <td>6035</td>\n",
       "      <td>1998</td>\n",
       "      <td>2</td>\n",
       "    </tr>\n",
       "    <tr>\n",
       "      <th>4</th>\n",
       "      <td>5969</td>\n",
       "      <td>75228</td>\n",
       "      <td>1987-10-31</td>\n",
       "      <td>1987.0</td>\n",
       "      <td>INDL</td>\n",
       "      <td>C</td>\n",
       "      <td>D</td>\n",
       "      <td>STD</td>\n",
       "      <td>IVACO INDUSTRIES INC</td>\n",
       "      <td>USD</td>\n",
       "      <td>...</td>\n",
       "      <td>0.000</td>\n",
       "      <td>10.374</td>\n",
       "      <td>10.753</td>\n",
       "      <td>1.025</td>\n",
       "      <td>0.000</td>\n",
       "      <td>13.491</td>\n",
       "      <td>I</td>\n",
       "      <td>2990</td>\n",
       "      <td>1987</td>\n",
       "      <td>2</td>\n",
       "    </tr>\n",
       "    <tr>\n",
       "      <th>5</th>\n",
       "      <td>14446</td>\n",
       "      <td>75228</td>\n",
       "      <td>1987-12-31</td>\n",
       "      <td>1987.0</td>\n",
       "      <td>INDL</td>\n",
       "      <td>C</td>\n",
       "      <td>D</td>\n",
       "      <td>STD</td>\n",
       "      <td>IVAX CORP</td>\n",
       "      <td>USD</td>\n",
       "      <td>...</td>\n",
       "      <td>0.000</td>\n",
       "      <td>12.075</td>\n",
       "      <td>12.522</td>\n",
       "      <td>-1.505</td>\n",
       "      <td>0.000</td>\n",
       "      <td>4.240</td>\n",
       "      <td>I</td>\n",
       "      <td>2834</td>\n",
       "      <td>1987</td>\n",
       "      <td>2</td>\n",
       "    </tr>\n",
       "    <tr>\n",
       "      <th>6</th>\n",
       "      <td>11831</td>\n",
       "      <td>88031</td>\n",
       "      <td>1990-06-30</td>\n",
       "      <td>1990.0</td>\n",
       "      <td>INDL</td>\n",
       "      <td>C</td>\n",
       "      <td>D</td>\n",
       "      <td>STD</td>\n",
       "      <td>CONTINENTAL VENTURES INC</td>\n",
       "      <td>USD</td>\n",
       "      <td>...</td>\n",
       "      <td>NaN</td>\n",
       "      <td>0.004</td>\n",
       "      <td>0.044</td>\n",
       "      <td>0.043</td>\n",
       "      <td>0.000</td>\n",
       "      <td>0.132</td>\n",
       "      <td>I</td>\n",
       "      <td>6799</td>\n",
       "      <td>1990</td>\n",
       "      <td>2</td>\n",
       "    </tr>\n",
       "    <tr>\n",
       "      <th>7</th>\n",
       "      <td>24316</td>\n",
       "      <td>88031</td>\n",
       "      <td>1990-12-31</td>\n",
       "      <td>1990.0</td>\n",
       "      <td>INDL</td>\n",
       "      <td>C</td>\n",
       "      <td>D</td>\n",
       "      <td>STD</td>\n",
       "      <td>MONSTER BEVERAGE CORP</td>\n",
       "      <td>USD</td>\n",
       "      <td>...</td>\n",
       "      <td>0.000</td>\n",
       "      <td>0.178</td>\n",
       "      <td>0.215</td>\n",
       "      <td>NaN</td>\n",
       "      <td>0.000</td>\n",
       "      <td>NaN</td>\n",
       "      <td>A</td>\n",
       "      <td>2086</td>\n",
       "      <td>1990</td>\n",
       "      <td>2</td>\n",
       "    </tr>\n",
       "    <tr>\n",
       "      <th>8</th>\n",
       "      <td>25905</td>\n",
       "      <td>15791</td>\n",
       "      <td>2017-06-30</td>\n",
       "      <td>2017.0</td>\n",
       "      <td>INDL</td>\n",
       "      <td>C</td>\n",
       "      <td>D</td>\n",
       "      <td>STD</td>\n",
       "      <td>PACIFIC SPECIAL ACQUISITION</td>\n",
       "      <td>USD</td>\n",
       "      <td>...</td>\n",
       "      <td>0.000</td>\n",
       "      <td>1.511</td>\n",
       "      <td>1.511</td>\n",
       "      <td>-1.967</td>\n",
       "      <td>47.389</td>\n",
       "      <td>0.000</td>\n",
       "      <td>I</td>\n",
       "      <td>9995</td>\n",
       "      <td>2017</td>\n",
       "      <td>2</td>\n",
       "    </tr>\n",
       "    <tr>\n",
       "      <th>9</th>\n",
       "      <td>32345</td>\n",
       "      <td>15791</td>\n",
       "      <td>2017-12-31</td>\n",
       "      <td>2017.0</td>\n",
       "      <td>INDL</td>\n",
       "      <td>C</td>\n",
       "      <td>D</td>\n",
       "      <td>STD</td>\n",
       "      <td>BORQS TECHNOLOGIES INC</td>\n",
       "      <td>USD</td>\n",
       "      <td>...</td>\n",
       "      <td>3.459</td>\n",
       "      <td>92.748</td>\n",
       "      <td>101.727</td>\n",
       "      <td>6.522</td>\n",
       "      <td>0.000</td>\n",
       "      <td>154.307</td>\n",
       "      <td>A</td>\n",
       "      <td>7373</td>\n",
       "      <td>2017</td>\n",
       "      <td>2</td>\n",
       "    </tr>\n",
       "    <tr>\n",
       "      <th>10</th>\n",
       "      <td>65275</td>\n",
       "      <td>85531</td>\n",
       "      <td>1998-12-31</td>\n",
       "      <td>1998.0</td>\n",
       "      <td>INDL</td>\n",
       "      <td>C</td>\n",
       "      <td>D</td>\n",
       "      <td>STD</td>\n",
       "      <td>BRIGHT HORIZONS FAMILY SOLTN</td>\n",
       "      <td>USD</td>\n",
       "      <td>...</td>\n",
       "      <td>0.000</td>\n",
       "      <td>30.043</td>\n",
       "      <td>38.083</td>\n",
       "      <td>8.737</td>\n",
       "      <td>0.000</td>\n",
       "      <td>209.372</td>\n",
       "      <td>A</td>\n",
       "      <td>8351</td>\n",
       "      <td>1998</td>\n",
       "      <td>2</td>\n",
       "    </tr>\n",
       "    <tr>\n",
       "      <th>11</th>\n",
       "      <td>65791</td>\n",
       "      <td>85531</td>\n",
       "      <td>1998-06-30</td>\n",
       "      <td>1998.0</td>\n",
       "      <td>INDL</td>\n",
       "      <td>C</td>\n",
       "      <td>D</td>\n",
       "      <td>STD</td>\n",
       "      <td>BRIGHT HORIZONS INC</td>\n",
       "      <td>USD</td>\n",
       "      <td>...</td>\n",
       "      <td>NaN</td>\n",
       "      <td>NaN</td>\n",
       "      <td>NaN</td>\n",
       "      <td>4.244</td>\n",
       "      <td>NaN</td>\n",
       "      <td>107.133</td>\n",
       "      <td>I</td>\n",
       "      <td>8351</td>\n",
       "      <td>1998</td>\n",
       "      <td>2</td>\n",
       "    </tr>\n",
       "  </tbody>\n",
       "</table>\n",
       "<p>12 rows × 26 columns</p>\n",
       "</div>"
      ],
      "text/plain": [
       "    GVKEY_x  permno       date   fyear indfmt consol popsrc datafmt  \\\n",
       "0      1302   22074 1987-06-30  1987.0   INDL      C      D     STD   \n",
       "1     14152   22074 1987-12-31  1987.0   INDL      C      D     STD   \n",
       "2      5184   67563 1998-06-30  1998.0   INDL      C      D     STD   \n",
       "3    116144   67563 1998-12-31  1998.0   INDL      C      D     STD   \n",
       "4      5969   75228 1987-10-31  1987.0   INDL      C      D     STD   \n",
       "5     14446   75228 1987-12-31  1987.0   INDL      C      D     STD   \n",
       "6     11831   88031 1990-06-30  1990.0   INDL      C      D     STD   \n",
       "7     24316   88031 1990-12-31  1990.0   INDL      C      D     STD   \n",
       "8     25905   15791 2017-06-30  2017.0   INDL      C      D     STD   \n",
       "9     32345   15791 2017-12-31  2017.0   INDL      C      D     STD   \n",
       "10    65275   85531 1998-12-31  1998.0   INDL      C      D     STD   \n",
       "11    65791   85531 1998-06-30  1998.0   INDL      C      D     STD   \n",
       "\n",
       "                            conm curcd  ...     ivst      lct         lt  \\\n",
       "0            ALLIED SUPERMARKETS   USD  ...   95.676    3.724     86.117   \n",
       "1             VONS COMPANIES INC   USD  ...      NaN  310.300    902.600   \n",
       "2   GOLDEN STATE BANCORP INC-OLD   USD  ...  174.200      NaN  16878.060   \n",
       "3       GOLDEN STATE BANCORP INC   USD  ...   52.671      NaN  52693.768   \n",
       "4           IVACO INDUSTRIES INC   USD  ...    0.000   10.374     10.753   \n",
       "5                      IVAX CORP   USD  ...    0.000   12.075     12.522   \n",
       "6       CONTINENTAL VENTURES INC   USD  ...      NaN    0.004      0.044   \n",
       "7          MONSTER BEVERAGE CORP   USD  ...    0.000    0.178      0.215   \n",
       "8    PACIFIC SPECIAL ACQUISITION   USD  ...    0.000    1.511      1.511   \n",
       "9         BORQS TECHNOLOGIES INC   USD  ...    3.459   92.748    101.727   \n",
       "10  BRIGHT HORIZONS FAMILY SOLTN   USD  ...    0.000   30.043     38.083   \n",
       "11           BRIGHT HORIZONS INC   USD  ...      NaN      NaN        NaN   \n",
       "\n",
       "      oiadp    pstk      sale  costat   sic  year  GVKEY_y  \n",
       "0     7.159   0.000   420.579       I  5411  1987        2  \n",
       "1       NaN   0.000       NaN       I  5411  1987        2  \n",
       "2   286.934   4.617  1262.833       I  6035  1998        2  \n",
       "3   425.416   0.000  2916.987       I  6035  1998        2  \n",
       "4     1.025   0.000    13.491       I  2990  1987        2  \n",
       "5    -1.505   0.000     4.240       I  2834  1987        2  \n",
       "6     0.043   0.000     0.132       I  6799  1990        2  \n",
       "7       NaN   0.000       NaN       A  2086  1990        2  \n",
       "8    -1.967  47.389     0.000       I  9995  2017        2  \n",
       "9     6.522   0.000   154.307       A  7373  2017        2  \n",
       "10    8.737   0.000   209.372       A  8351  1998        2  \n",
       "11    4.244     NaN   107.133       I  8351  1998        2  \n",
       "\n",
       "[12 rows x 26 columns]"
      ]
     },
     "execution_count": 187,
     "metadata": {},
     "output_type": "execute_result"
    }
   ],
   "source": [
    "pd.merge(funda, aaa, on=['permno', 'fyear'])"
   ]
  },
  {
   "cell_type": "markdown",
   "metadata": {},
   "source": [
    "# End June Split"
   ]
  },
  {
   "cell_type": "code",
   "execution_count": 451,
   "metadata": {},
   "outputs": [],
   "source": [
    "# check rebalance portion\n",
    "tmp = joined[['permno', 'join_date', 'next_join_date', 'wc_r']].copy()\n",
    "aaa = pd.merge(tmp, tmp, left_on=['permno', 'next_join_date'], right_on=['permno', 'join_date'], how='inner')\n",
    "aaa['same'] = aaa.wc_r_x == aaa.wc_r_y\n",
    "common = aaa.groupby('join_date_x').agg({'permno': 'count', 'same': 'sum'})\n",
    "common['pct'] = common.same / common.permno\n"
   ]
  },
  {
   "cell_type": "code",
   "execution_count": 520,
   "metadata": {},
   "outputs": [
    {
     "data": {
      "text/plain": [
       "nco_r\n",
       "year      1984.000000\n",
       "0            0.203575\n",
       "1            0.203717\n",
       "2            0.190798\n",
       "3            0.162914\n",
       "4            0.153361\n",
       "5            0.138656\n",
       "6            0.129647\n",
       "7            0.125366\n",
       "8            0.103373\n",
       "9            0.048253\n",
       "hedged       0.155322\n",
       "dtype: float64"
      ]
     },
     "execution_count": 520,
     "metadata": {},
     "output_type": "execute_result"
    }
   ],
   "source": []
  },
  {
   "cell_type": "code",
   "execution_count": 507,
   "metadata": {},
   "outputs": [
    {
     "data": {
      "text/plain": [
       "<matplotlib.axes._subplots.AxesSubplot at 0x1be8bed6668>"
      ]
     },
     "execution_count": 507,
     "metadata": {},
     "output_type": "execute_result"
    },
    {
     "data": {
      "image/png": "[encoded data removed]",
      "text/plain": [
       "<Figure size 432x288 with 1 Axes>"
      ]
     },
     "metadata": {
      "needs_background": "light"
     },
     "output_type": "display_data"
    }
   ],
   "source": [
    "annual['cum'] = (1 + annual.hedged).cumprod()\n",
    "annual.cum.plot(x='year')"
   ]
  },
  {
   "cell_type": "code",
   "execution_count": 488,
   "metadata": {},
   "outputs": [],
   "source": [
    "\n",
    "annual.to_csv('data/output.csv')"
   ]
  },
  {
   "cell_type": "code",
   "execution_count": 463,
   "metadata": {},
   "outputs": [
    {
     "data": {
      "text/html": [
       "<div>\n",
       "<style scoped>\n",
       "    .dataframe tbody tr th:only-of-type {\n",
       "        vertical-align: middle;\n",
       "    }\n",
       "\n",
       "    .dataframe tbody tr th {\n",
       "        vertical-align: top;\n",
       "    }\n",
       "\n",
       "    .dataframe thead th {\n",
       "        text-align: right;\n",
       "    }\n",
       "</style>\n",
       "<table border=\"1\" class=\"dataframe\">\n",
       "  <thead>\n",
       "    <tr style=\"text-align: right;\">\n",
       "      <th></th>\n",
       "      <th>acc_r</th>\n",
       "      <th>next_ret</th>\n",
       "    </tr>\n",
       "  </thead>\n",
       "  <tbody>\n",
       "    <tr>\n",
       "      <th>0</th>\n",
       "      <td>0</td>\n",
       "      <td>0.015000</td>\n",
       "    </tr>\n",
       "    <tr>\n",
       "      <th>1</th>\n",
       "      <td>1</td>\n",
       "      <td>0.014873</td>\n",
       "    </tr>\n",
       "    <tr>\n",
       "      <th>2</th>\n",
       "      <td>2</td>\n",
       "      <td>0.015124</td>\n",
       "    </tr>\n",
       "    <tr>\n",
       "      <th>3</th>\n",
       "      <td>3</td>\n",
       "      <td>0.014481</td>\n",
       "    </tr>\n",
       "    <tr>\n",
       "      <th>4</th>\n",
       "      <td>4</td>\n",
       "      <td>0.014099</td>\n",
       "    </tr>\n",
       "    <tr>\n",
       "      <th>5</th>\n",
       "      <td>5</td>\n",
       "      <td>0.014020</td>\n",
       "    </tr>\n",
       "    <tr>\n",
       "      <th>6</th>\n",
       "      <td>6</td>\n",
       "      <td>0.012989</td>\n",
       "    </tr>\n",
       "    <tr>\n",
       "      <th>7</th>\n",
       "      <td>7</td>\n",
       "      <td>0.012637</td>\n",
       "    </tr>\n",
       "    <tr>\n",
       "      <th>8</th>\n",
       "      <td>8</td>\n",
       "      <td>0.011463</td>\n",
       "    </tr>\n",
       "    <tr>\n",
       "      <th>9</th>\n",
       "      <td>9</td>\n",
       "      <td>0.007059</td>\n",
       "    </tr>\n",
       "  </tbody>\n",
       "</table>\n",
       "</div>"
      ],
      "text/plain": [
       "   acc_r  next_ret\n",
       "0      0  0.015000\n",
       "1      1  0.014873\n",
       "2      2  0.015124\n",
       "3      3  0.014481\n",
       "4      4  0.014099\n",
       "5      5  0.014020\n",
       "6      6  0.012989\n",
       "7      7  0.012637\n",
       "8      8  0.011463\n",
       "9      9  0.007059"
      ]
     },
     "execution_count": 463,
     "metadata": {},
     "output_type": "execute_result"
    }
   ],
   "source": [
    "joined.groupby(['acc_r'], as_index=False).next_ret.mean()"
   ]
  },
  {
   "cell_type": "code",
   "execution_count": 420,
   "metadata": {},
   "outputs": [
    {
     "data": {
      "text/plain": [
       "join_date\n",
       "1965-01-31     859\n",
       "1965-02-28     862\n",
       "1965-03-31     864\n",
       "1965-04-30     865\n",
       "1965-05-31     869\n",
       "1965-06-30     879\n",
       "1965-07-31     882\n",
       "1965-08-31     884\n",
       "1965-09-30     886\n",
       "1965-10-31     888\n",
       "1965-11-30     886\n",
       "1965-12-31     933\n",
       "1966-01-31     944\n",
       "1966-02-28     946\n",
       "1966-03-31     946\n",
       "1966-04-30     949\n",
       "1966-05-31     954\n",
       "1966-06-30     966\n",
       "1966-07-31     974\n",
       "1966-08-31     980\n",
       "1966-09-30     987\n",
       "1966-10-31     991\n",
       "1966-11-30     996\n",
       "1966-12-31    1050\n",
       "1967-01-31    1058\n",
       "1967-02-28    1064\n",
       "1967-03-31    1069\n",
       "1967-04-30    1074\n",
       "1967-05-31    1076\n",
       "1967-06-30    1085\n",
       "              ... \n",
       "2016-06-30    2676\n",
       "2016-07-31    2661\n",
       "2016-08-31    2640\n",
       "2016-09-30    2631\n",
       "2016-10-31    2612\n",
       "2016-11-30    2594\n",
       "2016-12-31    2716\n",
       "2017-01-31    2709\n",
       "2017-02-28    2692\n",
       "2017-03-31    2679\n",
       "2017-04-30    2670\n",
       "2017-05-31    2655\n",
       "2017-06-30    2649\n",
       "2017-07-31    2637\n",
       "2017-08-31    2617\n",
       "2017-09-30    2606\n",
       "2017-10-31    2588\n",
       "2017-11-30    2569\n",
       "2017-12-31    2680\n",
       "2018-01-31    2667\n",
       "2018-02-28    2653\n",
       "2018-03-31    2636\n",
       "2018-04-30    2629\n",
       "2018-05-31    2616\n",
       "2018-06-30    2608\n",
       "2018-07-31    2599\n",
       "2018-08-31    2593\n",
       "2018-09-30    2579\n",
       "2018-10-31    2566\n",
       "2018-11-30    2550\n",
       "Name: permno, Length: 647, dtype: int64"
      ]
     },
     "execution_count": 420,
     "metadata": {},
     "output_type": "execute_result"
    }
   ],
   "source": [
    "joined.groupby('join_date').permno.nunique()['1965-01-01': ]"
   ]
  },
  {
   "cell_type": "code",
   "execution_count": 357,
   "metadata": {},
   "outputs": [
    {
     "data": {
      "text/plain": [
       "2597216"
      ]
     },
     "execution_count": 357,
     "metadata": {},
     "output_type": "execute_result"
    }
   ],
   "source": [
    "data.dropna(subset=['ret']).shape[0]"
   ]
  },
  {
   "cell_type": "code",
   "execution_count": 352,
   "metadata": {},
   "outputs": [
    {
     "data": {
      "text/html": [
       "<div>\n",
       "<style scoped>\n",
       "    .dataframe tbody tr th:only-of-type {\n",
       "        vertical-align: middle;\n",
       "    }\n",
       "\n",
       "    .dataframe tbody tr th {\n",
       "        vertical-align: top;\n",
       "    }\n",
       "\n",
       "    .dataframe thead th {\n",
       "        text-align: right;\n",
       "    }\n",
       "</style>\n",
       "<table border=\"1\" class=\"dataframe\">\n",
       "  <thead>\n",
       "    <tr style=\"text-align: right;\">\n",
       "      <th></th>\n",
       "      <th>permno</th>\n",
       "      <th>permco</th>\n",
       "      <th>ncusip</th>\n",
       "      <th>date</th>\n",
       "      <th>ticker</th>\n",
       "      <th>shrcd</th>\n",
       "      <th>exchcd</th>\n",
       "      <th>siccd</th>\n",
       "      <th>ret</th>\n",
       "      <th>vol</th>\n",
       "      <th>...</th>\n",
       "      <th>join_date</th>\n",
       "      <th>next_ret</th>\n",
       "      <th>dwc</th>\n",
       "      <th>dnco</th>\n",
       "      <th>dfin</th>\n",
       "      <th>tacc</th>\n",
       "      <th>wc_r</th>\n",
       "      <th>nco_r</th>\n",
       "      <th>fin_r</th>\n",
       "      <th>acc_r</th>\n",
       "    </tr>\n",
       "  </thead>\n",
       "  <tbody>\n",
       "    <tr>\n",
       "      <th>22</th>\n",
       "      <td>10001.0</td>\n",
       "      <td>7953</td>\n",
       "      <td>39040610</td>\n",
       "      <td>1986-06-30</td>\n",
       "      <td>GFGC</td>\n",
       "      <td>11.0</td>\n",
       "      <td>3.0</td>\n",
       "      <td>4920.0</td>\n",
       "      <td>-0.013069</td>\n",
       "      <td>238.0</td>\n",
       "      <td>...</td>\n",
       "      <td>1986-06-30</td>\n",
       "      <td>-0.010204</td>\n",
       "      <td>-0.107724</td>\n",
       "      <td>-1.213675</td>\n",
       "      <td>0.614848</td>\n",
       "      <td>-0.706551</td>\n",
       "      <td>1</td>\n",
       "      <td>0</td>\n",
       "      <td>9</td>\n",
       "      <td>0</td>\n",
       "    </tr>\n",
       "    <tr>\n",
       "      <th>23</th>\n",
       "      <td>10001.0</td>\n",
       "      <td>7953</td>\n",
       "      <td>39040610</td>\n",
       "      <td>1986-07-31</td>\n",
       "      <td>GFGC</td>\n",
       "      <td>11.0</td>\n",
       "      <td>3.0</td>\n",
       "      <td>4920.0</td>\n",
       "      <td>-0.010204</td>\n",
       "      <td>429.0</td>\n",
       "      <td>...</td>\n",
       "      <td>1986-07-31</td>\n",
       "      <td>0.072165</td>\n",
       "      <td>-0.107724</td>\n",
       "      <td>-1.213675</td>\n",
       "      <td>0.614848</td>\n",
       "      <td>-0.706551</td>\n",
       "      <td>1</td>\n",
       "      <td>0</td>\n",
       "      <td>9</td>\n",
       "      <td>0</td>\n",
       "    </tr>\n",
       "    <tr>\n",
       "      <th>24</th>\n",
       "      <td>10001.0</td>\n",
       "      <td>7953</td>\n",
       "      <td>39040610</td>\n",
       "      <td>1986-08-29</td>\n",
       "      <td>GFGC</td>\n",
       "      <td>11.0</td>\n",
       "      <td>3.0</td>\n",
       "      <td>4920.0</td>\n",
       "      <td>0.072165</td>\n",
       "      <td>895.0</td>\n",
       "      <td>...</td>\n",
       "      <td>1986-08-31</td>\n",
       "      <td>-0.003077</td>\n",
       "      <td>-0.107724</td>\n",
       "      <td>-1.213675</td>\n",
       "      <td>0.614848</td>\n",
       "      <td>-0.706551</td>\n",
       "      <td>1</td>\n",
       "      <td>0</td>\n",
       "      <td>9</td>\n",
       "      <td>0</td>\n",
       "    </tr>\n",
       "    <tr>\n",
       "      <th>25</th>\n",
       "      <td>10001.0</td>\n",
       "      <td>7953</td>\n",
       "      <td>39040610</td>\n",
       "      <td>1986-09-30</td>\n",
       "      <td>GFGC</td>\n",
       "      <td>11.0</td>\n",
       "      <td>3.0</td>\n",
       "      <td>4920.0</td>\n",
       "      <td>-0.003077</td>\n",
       "      <td>366.0</td>\n",
       "      <td>...</td>\n",
       "      <td>1986-09-30</td>\n",
       "      <td>0.039216</td>\n",
       "      <td>-0.107724</td>\n",
       "      <td>-1.213675</td>\n",
       "      <td>0.614848</td>\n",
       "      <td>-0.706551</td>\n",
       "      <td>1</td>\n",
       "      <td>0</td>\n",
       "      <td>9</td>\n",
       "      <td>0</td>\n",
       "    </tr>\n",
       "    <tr>\n",
       "      <th>26</th>\n",
       "      <td>10001.0</td>\n",
       "      <td>7953</td>\n",
       "      <td>39040610</td>\n",
       "      <td>1986-10-31</td>\n",
       "      <td>GFGC</td>\n",
       "      <td>11.0</td>\n",
       "      <td>3.0</td>\n",
       "      <td>4920.0</td>\n",
       "      <td>0.039216</td>\n",
       "      <td>362.0</td>\n",
       "      <td>...</td>\n",
       "      <td>1986-10-31</td>\n",
       "      <td>0.056604</td>\n",
       "      <td>-0.107724</td>\n",
       "      <td>-1.213675</td>\n",
       "      <td>0.614848</td>\n",
       "      <td>-0.706551</td>\n",
       "      <td>1</td>\n",
       "      <td>0</td>\n",
       "      <td>9</td>\n",
       "      <td>0</td>\n",
       "    </tr>\n",
       "  </tbody>\n",
       "</table>\n",
       "<p>5 rows × 24 columns</p>\n",
       "</div>"
      ],
      "text/plain": [
       "     permno  permco    ncusip       date ticker  shrcd  exchcd   siccd  \\\n",
       "22  10001.0    7953  39040610 1986-06-30   GFGC   11.0     3.0  4920.0   \n",
       "23  10001.0    7953  39040610 1986-07-31   GFGC   11.0     3.0  4920.0   \n",
       "24  10001.0    7953  39040610 1986-08-29   GFGC   11.0     3.0  4920.0   \n",
       "25  10001.0    7953  39040610 1986-09-30   GFGC   11.0     3.0  4920.0   \n",
       "26  10001.0    7953  39040610 1986-10-31   GFGC   11.0     3.0  4920.0   \n",
       "\n",
       "         ret    vol  ...  join_date  next_ret       dwc      dnco      dfin  \\\n",
       "22 -0.013069  238.0  ... 1986-06-30 -0.010204 -0.107724 -1.213675  0.614848   \n",
       "23 -0.010204  429.0  ... 1986-07-31  0.072165 -0.107724 -1.213675  0.614848   \n",
       "24  0.072165  895.0  ... 1986-08-31 -0.003077 -0.107724 -1.213675  0.614848   \n",
       "25 -0.003077  366.0  ... 1986-09-30  0.039216 -0.107724 -1.213675  0.614848   \n",
       "26  0.039216  362.0  ... 1986-10-31  0.056604 -0.107724 -1.213675  0.614848   \n",
       "\n",
       "        tacc  wc_r  nco_r  fin_r  acc_r  \n",
       "22 -0.706551     1      0      9      0  \n",
       "23 -0.706551     1      0      9      0  \n",
       "24 -0.706551     1      0      9      0  \n",
       "25 -0.706551     1      0      9      0  \n",
       "26 -0.706551     1      0      9      0  \n",
       "\n",
       "[5 rows x 24 columns]"
      ]
     },
     "execution_count": 352,
     "metadata": {},
     "output_type": "execute_result"
    }
   ],
   "source": [
    "final.head()"
   ]
  },
  {
   "cell_type": "code",
   "execution_count": 303,
   "metadata": {},
   "outputs": [],
   "source": [
    "rets = final.groupby(['join_date', 'rwc'], as_index=False).next_ret.mean() \\\n",
    "            .pivot(index='join_date', columns='rwc', values='next_ret')"
   ]
  },
  {
   "cell_type": "code",
   "execution_count": 304,
   "metadata": {},
   "outputs": [],
   "source": [
    "rets['longshort'] = rets[0] - rets[9]\n",
    "rets['cum'] = (1 + rets.longshort).cumprod()"
   ]
  },
  {
   "cell_type": "code",
   "execution_count": 305,
   "metadata": {},
   "outputs": [
    {
     "data": {
      "text/html": [
       "<div>\n",
       "<style scoped>\n",
       "    .dataframe tbody tr th:only-of-type {\n",
       "        vertical-align: middle;\n",
       "    }\n",
       "\n",
       "    .dataframe tbody tr th {\n",
       "        vertical-align: top;\n",
       "    }\n",
       "\n",
       "    .dataframe thead th {\n",
       "        text-align: right;\n",
       "    }\n",
       "</style>\n",
       "<table border=\"1\" class=\"dataframe\">\n",
       "  <thead>\n",
       "    <tr style=\"text-align: right;\">\n",
       "      <th>rwc</th>\n",
       "      <th>0</th>\n",
       "      <th>1</th>\n",
       "      <th>2</th>\n",
       "      <th>3</th>\n",
       "      <th>4</th>\n",
       "      <th>5</th>\n",
       "      <th>6</th>\n",
       "      <th>7</th>\n",
       "      <th>8</th>\n",
       "      <th>9</th>\n",
       "      <th>longshort</th>\n",
       "      <th>cum</th>\n",
       "    </tr>\n",
       "    <tr>\n",
       "      <th>join_date</th>\n",
       "      <th></th>\n",
       "      <th></th>\n",
       "      <th></th>\n",
       "      <th></th>\n",
       "      <th></th>\n",
       "      <th></th>\n",
       "      <th></th>\n",
       "      <th></th>\n",
       "      <th></th>\n",
       "      <th></th>\n",
       "      <th></th>\n",
       "      <th></th>\n",
       "    </tr>\n",
       "  </thead>\n",
       "  <tbody>\n",
       "    <tr>\n",
       "      <th>2018-08-31</th>\n",
       "      <td>-0.011649</td>\n",
       "      <td>-0.022242</td>\n",
       "      <td>-0.009836</td>\n",
       "      <td>0.001309</td>\n",
       "      <td>-0.003686</td>\n",
       "      <td>-0.020029</td>\n",
       "      <td>-0.011949</td>\n",
       "      <td>-0.016887</td>\n",
       "      <td>-0.037613</td>\n",
       "      <td>-0.015346</td>\n",
       "      <td>0.003697</td>\n",
       "      <td>21.175207</td>\n",
       "    </tr>\n",
       "    <tr>\n",
       "      <th>2018-09-30</th>\n",
       "      <td>-0.125198</td>\n",
       "      <td>-0.108234</td>\n",
       "      <td>-0.108175</td>\n",
       "      <td>-0.103784</td>\n",
       "      <td>-0.083066</td>\n",
       "      <td>-0.093558</td>\n",
       "      <td>-0.103989</td>\n",
       "      <td>-0.105563</td>\n",
       "      <td>-0.114226</td>\n",
       "      <td>-0.114264</td>\n",
       "      <td>-0.010934</td>\n",
       "      <td>20.943675</td>\n",
       "    </tr>\n",
       "    <tr>\n",
       "      <th>2018-10-31</th>\n",
       "      <td>-0.031853</td>\n",
       "      <td>-0.010197</td>\n",
       "      <td>-0.004096</td>\n",
       "      <td>0.000901</td>\n",
       "      <td>-0.002213</td>\n",
       "      <td>0.003640</td>\n",
       "      <td>-0.005023</td>\n",
       "      <td>0.001573</td>\n",
       "      <td>0.006829</td>\n",
       "      <td>-0.018000</td>\n",
       "      <td>-0.013853</td>\n",
       "      <td>20.653544</td>\n",
       "    </tr>\n",
       "    <tr>\n",
       "      <th>2018-11-30</th>\n",
       "      <td>-0.147373</td>\n",
       "      <td>-0.146765</td>\n",
       "      <td>-0.120882</td>\n",
       "      <td>-0.124657</td>\n",
       "      <td>-0.116595</td>\n",
       "      <td>-0.123654</td>\n",
       "      <td>-0.139716</td>\n",
       "      <td>-0.135871</td>\n",
       "      <td>-0.136471</td>\n",
       "      <td>-0.172779</td>\n",
       "      <td>0.025406</td>\n",
       "      <td>21.178261</td>\n",
       "    </tr>\n",
       "    <tr>\n",
       "      <th>2018-12-31</th>\n",
       "      <td>-0.160538</td>\n",
       "      <td>-0.148031</td>\n",
       "      <td>-0.128721</td>\n",
       "      <td>-0.121380</td>\n",
       "      <td>-0.124196</td>\n",
       "      <td>-0.123850</td>\n",
       "      <td>-0.129022</td>\n",
       "      <td>-0.137297</td>\n",
       "      <td>-0.141604</td>\n",
       "      <td>-0.152616</td>\n",
       "      <td>-0.007922</td>\n",
       "      <td>21.010478</td>\n",
       "    </tr>\n",
       "  </tbody>\n",
       "</table>\n",
       "</div>"
      ],
      "text/plain": [
       "rwc                0         1         2         3         4         5  \\\n",
       "join_date                                                                \n",
       "2018-08-31 -0.011649 -0.022242 -0.009836  0.001309 -0.003686 -0.020029   \n",
       "2018-09-30 -0.125198 -0.108234 -0.108175 -0.103784 -0.083066 -0.093558   \n",
       "2018-10-31 -0.031853 -0.010197 -0.004096  0.000901 -0.002213  0.003640   \n",
       "2018-11-30 -0.147373 -0.146765 -0.120882 -0.124657 -0.116595 -0.123654   \n",
       "2018-12-31 -0.160538 -0.148031 -0.128721 -0.121380 -0.124196 -0.123850   \n",
       "\n",
       "rwc                6         7         8         9  longshort        cum  \n",
       "join_date                                                                 \n",
       "2018-08-31 -0.011949 -0.016887 -0.037613 -0.015346   0.003697  21.175207  \n",
       "2018-09-30 -0.103989 -0.105563 -0.114226 -0.114264  -0.010934  20.943675  \n",
       "2018-10-31 -0.005023  0.001573  0.006829 -0.018000  -0.013853  20.653544  \n",
       "2018-11-30 -0.139716 -0.135871 -0.136471 -0.172779   0.025406  21.178261  \n",
       "2018-12-31 -0.129022 -0.137297 -0.141604 -0.152616  -0.007922  21.010478  "
      ]
     },
     "execution_count": 305,
     "metadata": {},
     "output_type": "execute_result"
    }
   ],
   "source": [
    "rets.tail()"
   ]
  },
  {
   "cell_type": "code",
   "execution_count": 254,
   "metadata": {},
   "outputs": [
    {
     "data": {
      "text/plain": [
       "1.0641039792183271"
      ]
     },
     "execution_count": 254,
     "metadata": {},
     "output_type": "execute_result"
    }
   ],
   "source": [
    "np.power(21, 1/49)"
   ]
  },
  {
   "cell_type": "code",
   "execution_count": 252,
   "metadata": {},
   "outputs": [
    {
     "data": {
      "text/plain": [
       "49.0"
      ]
     },
     "execution_count": 252,
     "metadata": {},
     "output_type": "execute_result"
    }
   ],
   "source": [
    "rets.shape[0] / 12"
   ]
  },
  {
   "cell_type": "code",
   "execution_count": 269,
   "metadata": {},
   "outputs": [
    {
     "data": {
      "text/plain": [
       "<matplotlib.axes._subplots.AxesSubplot at 0x1be87148e80>"
      ]
     },
     "execution_count": 269,
     "metadata": {},
     "output_type": "execute_result"
    },
    {
     "data": {
      "image/png": "[encoded data removed]",
      "text/plain": [
       "<Figure size 432x288 with 1 Axes>"
      ]
     },
     "metadata": {
      "needs_background": "light"
     },
     "output_type": "display_data"
    }
   ],
   "source": [
    "rets.loc['2008-01-01':].cum.plot()"
   ]
  }
 ],
 "metadata": {
  "kernelspec": {
   "display_name": "Python 3",
   "language": "python",
   "name": "python3"
  },
  "language_info": {
   "codemirror_mode": {
    "name": "ipython",
    "version": 3
   },
   "file_extension": ".py",
   "mimetype": "text/x-python",
   "name": "python",
   "nbconvert_exporter": "python",
   "pygments_lexer": "ipython3",
   "version": "3.7.3"
  }
 },
 "nbformat": 4,
 "nbformat_minor": 2
}
