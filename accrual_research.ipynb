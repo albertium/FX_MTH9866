{
 "cells": [
  {
   "cell_type": "code",
   "execution_count": 97,
   "metadata": {},
   "outputs": [
    {
     "name": "stdout",
     "output_type": "stream",
     "text": [
      "The autoreload extension is already loaded. To reload it, use:\n",
      "  %reload_ext autoreload\n"
     ]
    }
   ],
   "source": [
    "%load_ext autoreload\n",
    "%autoreload 2\n",
    "%matplotlib inline"
   ]
  },
  {
   "cell_type": "code",
   "execution_count": 78,
   "metadata": {},
   "outputs": [],
   "source": [
    "import pandas as pd\n",
    "import numpy as np\n",
    "from accrual import process_crsp, process_compustat, merge_data, backtest"
   ]
  },
  {
   "cell_type": "code",
   "execution_count": 20,
   "metadata": {},
   "outputs": [
    {
     "name": "stdout",
     "output_type": "stream",
     "text": [
      "Total rows: 4335433\n",
      "1950-01-31 00:00:00 to 2018-12-31 00:00:00\n",
      "Remove all NAs: 4304938 (99.30%)\n",
      "Remove Zs: 4302309 (99.24%)\n",
      "Remove financials: 3168271 (73.08%)\n",
      "Remove delisted rows: 3081542 (71.08%)\n",
      "Remove duplicated rows: 3065321 (70.70%)\n",
      "Duplicated for key [PERMNO, date]: 0\n",
      "PERMNO year: 276015\n"
     ]
    }
   ],
   "source": [
    "data = process_crsp('data/crsp_monthly2.gz')"
   ]
  },
  {
   "cell_type": "code",
   "execution_count": 33,
   "metadata": {
    "scrolled": true
   },
   "outputs": [
    {
     "name": "stdout",
     "output_type": "stream",
     "text": [
      "Total rows: 302087\n",
      "Drop NAs: 232651 (77.01%)\n",
      "Duplicated PERMNO fyear: 2\n",
      "Drop duplicates: 232649 (77.01%)\n",
      "Duplicated PERMNO fyear: 0\n",
      "Zero total asset: 23\n",
      "Drop zero AT: 232626 (77.01%)\n",
      "Merged with previous fyear: 220785 (73.09%)\n",
      "Final rows: 220409 (72.96%)\n"
     ]
    }
   ],
   "source": [
    "funda = process_compustat('data/compustat_annual.gz')"
   ]
  },
  {
   "cell_type": "code",
   "execution_count": 36,
   "metadata": {},
   "outputs": [
    {
     "name": "stdout",
     "output_type": "stream",
     "text": [
      "Total rows: 276015\n",
      "Valid PERMNO: 254461 (92.19%)\n",
      "Merged: 254461 (92.19%)\n",
      "Filled: 254461 (92.19%)\n",
      "Drop NAs: 211696 (76.70%)\n"
     ]
    }
   ],
   "source": [
    "merged = merge_data(data.reset_index(), funda)"
   ]
  },
  {
   "cell_type": "code",
   "execution_count": 84,
   "metadata": {},
   "outputs": [
    {
     "data": {
      "text/plain": [
       "array([ 1553,  1665,  3111,  3828,  4346,  4470,  4528,  5595,  6777,\n",
       "        7136,  7757,  7875,  9713, 11188, 12449, 12926, 15248, 16150,\n",
       "       17762, 18298, 18359, 18711, 20105, 20703, 20852, 21267, 22247,\n",
       "       22761, 23885, 24360, 24432, 24830, 27028, 27169, 27273, 30128,\n",
       "       30321, 31083, 31373, 31514, 31927, 31991, 32278, 34238, 34401,\n",
       "       35126, 35198, 35519, 35615, 36191, 37518, 37582, 37789, 37874,\n",
       "       38044, 38106, 38353, 38475, 39304, 39696, 40022, 40989, 41127,\n",
       "       41335, 41617, 41818, 42213, 42354, 42572, 42918, 43056, 43403,\n",
       "       43541, 43783, 44030, 44119, 44294, 44617, 44735, 44775, 44876,\n",
       "       45021, 45064, 45287, 45525, 45565, 45611, 45661, 45884, 45965,\n",
       "       46562, 46686, 46791, 47026, 47128, 47377, 47457, 47598, 47749,\n",
       "       48163, 48982, 49175, 49531, 49568, 49800, 49839, 50181, 50348,\n",
       "       50799, 50901, 51246, 51553, 51630, 51699, 51770, 51842, 51949,\n",
       "       52022, 52091, 52216, 52529, 52588, 52691, 52753, 53514, 53786,\n",
       "       54374, 54544, 54817, 54877, 55130, 55507, 55803, 56215, 56506,\n",
       "       56945, 57160, 57298, 57669, 57929, 58943, 59174, 59651, 59860,\n",
       "       59999, 60061, 60267, 60404, 60806, 60878, 61484, 61899, 63312,\n",
       "       64222], dtype=int64)"
      ]
     },
     "execution_count": 84,
     "metadata": {},
     "output_type": "execute_result"
    }
   ],
   "source": [
    "aaa.index.values"
   ]
  },
  {
   "cell_type": "code",
   "execution_count": 99,
   "metadata": {},
   "outputs": [],
   "source": [
    "equity = backtest(merged)"
   ]
  },
  {
   "cell_type": "code",
   "execution_count": 262,
   "metadata": {},
   "outputs": [
    {
     "data": {
      "text/plain": [
       "1.0366694680848143"
      ]
     },
     "execution_count": 262,
     "metadata": {},
     "output_type": "execute_result"
    }
   ],
   "source": [
    "np.power(12, 1/69)"
   ]
  },
  {
   "cell_type": "code",
   "execution_count": 100,
   "metadata": {
    "scrolled": true
   },
   "outputs": [
    {
     "data": {
      "text/plain": [
       "<matplotlib.axes._subplots.AxesSubplot at 0x1bee57390b8>"
      ]
     },
     "execution_count": 100,
     "metadata": {},
     "output_type": "execute_result"
    },
    {
     "data": {
      "image/png": "[encoded data removed]",
      "text/plain": [
       "<Figure size 432x288 with 1 Axes>"
      ]
     },
     "metadata": {
      "needs_background": "light"
     },
     "output_type": "display_data"
    }
   ],
   "source": [
    "pd.DataFrame({'equity': (np.array(equity) + 1).cumprod()}).plot()"
   ]
  },
  {
   "cell_type": "code",
   "execution_count": 143,
   "metadata": {},
   "outputs": [
    {
     "data": {
      "text/plain": [
       "Index(['permno', 'permco', 'ncusip', 'date', 'shrcd', 'exchcd', 'siccd', 'ret',\n",
       "       'vol', 'shrout', 'prc', 'cfacpr', 'cfacshr', 'join_date', 'price'],\n",
       "      dtype='object')"
      ]
     },
     "execution_count": 143,
     "metadata": {},
     "output_type": "execute_result"
    }
   ],
   "source": [
    "raw = pd.read_feather('data/new_crsp')\n",
    "raw.columns"
   ]
  },
  {
   "cell_type": "code",
   "execution_count": 149,
   "metadata": {},
   "outputs": [
    {
     "data": {
      "text/plain": [
       "0"
      ]
     },
     "execution_count": 149,
     "metadata": {},
     "output_type": "execute_result"
    }
   ],
   "source": [
    "(data.siccd == 'Z').sum()"
   ]
  },
  {
   "cell_type": "code",
   "execution_count": 153,
   "metadata": {},
   "outputs": [
    {
     "name": "stdout",
     "output_type": "stream",
     "text": [
      "Total rows: 3017885\n",
      "1970-01-30 00:00:00 to 2018-12-31 00:00:00\n",
      "Remove financials: 2475632 (82.03%)\n",
      "Duplicated for key [PERMNO, date]: 0\n"
     ]
    }
   ],
   "source": [
    "raw = pd.read_feather('data/new_crsp')\n",
    "\n",
    "columns_kept = ['date', 'permco', 'permno', 'siccd', 'ret']\n",
    "tota_rows = raw.shape[0]\n",
    "print(f'Total rows: {tota_rows}')\n",
    "print(f'{raw.date.min()} to {raw.date.max()}')\n",
    "\n",
    "data = data[(data.siccd < 6000) | (data.siccd >= 7000)]  # remove financial\n",
    "print(f'Remove financials: {data.shape[0]} ({data.shape[0] / tota_rows:.2%})')\n",
    "\n",
    "dup = data[['permno', 'date']].duplicated().sum()\n",
    "print(f'Duplicated for key [PERMNO, date]: {dup}')"
   ]
  },
  {
   "cell_type": "code",
   "execution_count": 154,
   "metadata": {},
   "outputs": [
    {
     "name": "stdout",
     "output_type": "stream",
     "text": [
      "Total rows: 302087\n",
      "1950-06-30 00:00:00 to 2018-12-31 00:00:00\n",
      "Drop NAs: 232651 (77.01%)\n",
      "Duplicated PERMNO fyear: 2\n",
      "Drop duplicates: 232649 (77.01%)\n",
      "Duplicated PERMNO fyear: 0\n",
      "Zero total asset: 23\n",
      "Drop zero AT: 232626 (77.01%)\n",
      "Merged with previous fyear: 220785 (73.09%)\n",
      "Final rows: 220409 (72.96%)\n"
     ]
    }
   ],
   "source": [
    "funda = process_compustat('data/compustat_annual.gz')"
   ]
  },
  {
   "cell_type": "code",
   "execution_count": 174,
   "metadata": {},
   "outputs": [],
   "source": [
    "from pandas.tseries.offsets import MonthEnd"
   ]
  },
  {
   "cell_type": "code",
   "execution_count": 161,
   "metadata": {},
   "outputs": [],
   "source": [
    "funda.rename(lambda x: x.lower(), axis=1, inplace=True)"
   ]
  },
  {
   "cell_type": "code",
   "execution_count": 175,
   "metadata": {},
   "outputs": [],
   "source": [
    "data['next_ret'] = data.groupby('permno', as_index=False).ret.shift(-1)\n",
    "data['join_date'] = data.date + MonthEnd(0)"
   ]
  },
  {
   "cell_type": "code",
   "execution_count": 184,
   "metadata": {},
   "outputs": [],
   "source": [
    "funda1 = funda.loc[:, ['date', 'permno', 'year', 'dwc', 'dnco', 'dfin', 'tacc']]\n",
    "funda1['join_date'] = funda.date + MonthEnd(0)\n",
    "funda1.permno = funda1.permno.astype('int')"
   ]
  },
  {
   "cell_type": "code",
   "execution_count": 209,
   "metadata": {},
   "outputs": [],
   "source": [
    "index = ['join_date', 'permno']\n",
    "joined = pd.merge(data, funda1.drop(['date', 'year'], axis=1), on=index, how='left')\n",
    "joined = joined.groupby('permno', as_index=False).fillna(method='ffill')"
   ]
  },
  {
   "cell_type": "code",
   "execution_count": 210,
   "metadata": {},
   "outputs": [
    {
     "name": "stdout",
     "output_type": "stream",
     "text": [
      "2475632\n",
      "2475632\n"
     ]
    }
   ],
   "source": [
    "print(data.shape[0])\n",
    "print(joined.shape[0])"
   ]
  },
  {
   "cell_type": "code",
   "execution_count": 298,
   "metadata": {},
   "outputs": [
    {
     "name": "stdout",
     "output_type": "stream",
     "text": [
      "2129965\n"
     ]
    }
   ],
   "source": [
    "final = joined.dropna(subset=['dwc', 'dnco', 'dfin', 'tacc']).copy()\n",
    "print(final.shape[0])"
   ]
  },
  {
   "cell_type": "code",
   "execution_count": 299,
   "metadata": {},
   "outputs": [],
   "source": [
    "for col in ['dwc', 'dnco', 'dfin', 'tacc']:\n",
    "    final['r' + col[1:]] = final.groupby('join_date', as_index=False)[col].transform(lambda x: pd.qcut(x, 10, range(10)))"
   ]
  },
  {
   "cell_type": "code",
   "execution_count": 303,
   "metadata": {},
   "outputs": [],
   "source": [
    "rets = final.groupby(['join_date', 'rwc'], as_index=False).next_ret.mean() \\\n",
    "            .pivot(index='join_date', columns='rwc', values='next_ret')"
   ]
  },
  {
   "cell_type": "code",
   "execution_count": 304,
   "metadata": {},
   "outputs": [],
   "source": [
    "rets['longshort'] = rets[0] - rets[9]\n",
    "rets['cum'] = (1 + rets.longshort).cumprod()"
   ]
  },
  {
   "cell_type": "code",
   "execution_count": 305,
   "metadata": {},
   "outputs": [
    {
     "data": {
      "text/html": [
       "<div>\n",
       "<style scoped>\n",
       "    .dataframe tbody tr th:only-of-type {\n",
       "        vertical-align: middle;\n",
       "    }\n",
       "\n",
       "    .dataframe tbody tr th {\n",
       "        vertical-align: top;\n",
       "    }\n",
       "\n",
       "    .dataframe thead th {\n",
       "        text-align: right;\n",
       "    }\n",
       "</style>\n",
       "<table border=\"1\" class=\"dataframe\">\n",
       "  <thead>\n",
       "    <tr style=\"text-align: right;\">\n",
       "      <th>rwc</th>\n",
       "      <th>0</th>\n",
       "      <th>1</th>\n",
       "      <th>2</th>\n",
       "      <th>3</th>\n",
       "      <th>4</th>\n",
       "      <th>5</th>\n",
       "      <th>6</th>\n",
       "      <th>7</th>\n",
       "      <th>8</th>\n",
       "      <th>9</th>\n",
       "      <th>longshort</th>\n",
       "      <th>cum</th>\n",
       "    </tr>\n",
       "    <tr>\n",
       "      <th>join_date</th>\n",
       "      <th></th>\n",
       "      <th></th>\n",
       "      <th></th>\n",
       "      <th></th>\n",
       "      <th></th>\n",
       "      <th></th>\n",
       "      <th></th>\n",
       "      <th></th>\n",
       "      <th></th>\n",
       "      <th></th>\n",
       "      <th></th>\n",
       "      <th></th>\n",
       "    </tr>\n",
       "  </thead>\n",
       "  <tbody>\n",
       "    <tr>\n",
       "      <th>2018-08-31</th>\n",
       "      <td>-0.011649</td>\n",
       "      <td>-0.022242</td>\n",
       "      <td>-0.009836</td>\n",
       "      <td>0.001309</td>\n",
       "      <td>-0.003686</td>\n",
       "      <td>-0.020029</td>\n",
       "      <td>-0.011949</td>\n",
       "      <td>-0.016887</td>\n",
       "      <td>-0.037613</td>\n",
       "      <td>-0.015346</td>\n",
       "      <td>0.003697</td>\n",
       "      <td>21.175207</td>\n",
       "    </tr>\n",
       "    <tr>\n",
       "      <th>2018-09-30</th>\n",
       "      <td>-0.125198</td>\n",
       "      <td>-0.108234</td>\n",
       "      <td>-0.108175</td>\n",
       "      <td>-0.103784</td>\n",
       "      <td>-0.083066</td>\n",
       "      <td>-0.093558</td>\n",
       "      <td>-0.103989</td>\n",
       "      <td>-0.105563</td>\n",
       "      <td>-0.114226</td>\n",
       "      <td>-0.114264</td>\n",
       "      <td>-0.010934</td>\n",
       "      <td>20.943675</td>\n",
       "    </tr>\n",
       "    <tr>\n",
       "      <th>2018-10-31</th>\n",
       "      <td>-0.031853</td>\n",
       "      <td>-0.010197</td>\n",
       "      <td>-0.004096</td>\n",
       "      <td>0.000901</td>\n",
       "      <td>-0.002213</td>\n",
       "      <td>0.003640</td>\n",
       "      <td>-0.005023</td>\n",
       "      <td>0.001573</td>\n",
       "      <td>0.006829</td>\n",
       "      <td>-0.018000</td>\n",
       "      <td>-0.013853</td>\n",
       "      <td>20.653544</td>\n",
       "    </tr>\n",
       "    <tr>\n",
       "      <th>2018-11-30</th>\n",
       "      <td>-0.147373</td>\n",
       "      <td>-0.146765</td>\n",
       "      <td>-0.120882</td>\n",
       "      <td>-0.124657</td>\n",
       "      <td>-0.116595</td>\n",
       "      <td>-0.123654</td>\n",
       "      <td>-0.139716</td>\n",
       "      <td>-0.135871</td>\n",
       "      <td>-0.136471</td>\n",
       "      <td>-0.172779</td>\n",
       "      <td>0.025406</td>\n",
       "      <td>21.178261</td>\n",
       "    </tr>\n",
       "    <tr>\n",
       "      <th>2018-12-31</th>\n",
       "      <td>-0.160538</td>\n",
       "      <td>-0.148031</td>\n",
       "      <td>-0.128721</td>\n",
       "      <td>-0.121380</td>\n",
       "      <td>-0.124196</td>\n",
       "      <td>-0.123850</td>\n",
       "      <td>-0.129022</td>\n",
       "      <td>-0.137297</td>\n",
       "      <td>-0.141604</td>\n",
       "      <td>-0.152616</td>\n",
       "      <td>-0.007922</td>\n",
       "      <td>21.010478</td>\n",
       "    </tr>\n",
       "  </tbody>\n",
       "</table>\n",
       "</div>"
      ],
      "text/plain": [
       "rwc                0         1         2         3         4         5  \\\n",
       "join_date                                                                \n",
       "2018-08-31 -0.011649 -0.022242 -0.009836  0.001309 -0.003686 -0.020029   \n",
       "2018-09-30 -0.125198 -0.108234 -0.108175 -0.103784 -0.083066 -0.093558   \n",
       "2018-10-31 -0.031853 -0.010197 -0.004096  0.000901 -0.002213  0.003640   \n",
       "2018-11-30 -0.147373 -0.146765 -0.120882 -0.124657 -0.116595 -0.123654   \n",
       "2018-12-31 -0.160538 -0.148031 -0.128721 -0.121380 -0.124196 -0.123850   \n",
       "\n",
       "rwc                6         7         8         9  longshort        cum  \n",
       "join_date                                                                 \n",
       "2018-08-31 -0.011949 -0.016887 -0.037613 -0.015346   0.003697  21.175207  \n",
       "2018-09-30 -0.103989 -0.105563 -0.114226 -0.114264  -0.010934  20.943675  \n",
       "2018-10-31 -0.005023  0.001573  0.006829 -0.018000  -0.013853  20.653544  \n",
       "2018-11-30 -0.139716 -0.135871 -0.136471 -0.172779   0.025406  21.178261  \n",
       "2018-12-31 -0.129022 -0.137297 -0.141604 -0.152616  -0.007922  21.010478  "
      ]
     },
     "execution_count": 305,
     "metadata": {},
     "output_type": "execute_result"
    }
   ],
   "source": [
    "rets.tail()"
   ]
  },
  {
   "cell_type": "code",
   "execution_count": 254,
   "metadata": {},
   "outputs": [
    {
     "data": {
      "text/plain": [
       "1.0641039792183271"
      ]
     },
     "execution_count": 254,
     "metadata": {},
     "output_type": "execute_result"
    }
   ],
   "source": [
    "np.power(21, 1/49)"
   ]
  },
  {
   "cell_type": "code",
   "execution_count": 252,
   "metadata": {},
   "outputs": [
    {
     "data": {
      "text/plain": [
       "49.0"
      ]
     },
     "execution_count": 252,
     "metadata": {},
     "output_type": "execute_result"
    }
   ],
   "source": [
    "rets.shape[0] / 12"
   ]
  },
  {
   "cell_type": "code",
   "execution_count": 269,
   "metadata": {},
   "outputs": [
    {
     "data": {
      "text/plain": [
       "<matplotlib.axes._subplots.AxesSubplot at 0x1be87148e80>"
      ]
     },
     "execution_count": 269,
     "metadata": {},
     "output_type": "execute_result"
    },
    {
     "data": {
      "image/png": "[encoded data removed]",
      "text/plain": [
       "<Figure size 432x288 with 1 Axes>"
      ]
     },
     "metadata": {
      "needs_background": "light"
     },
     "output_type": "display_data"
    }
   ],
   "source": [
    "rets.loc['2008-01-01':].cum.plot()"
   ]
  }
 ],
 "metadata": {
  "kernelspec": {
   "display_name": "Python 3",
   "language": "python",
   "name": "python3"
  },
  "language_info": {
   "codemirror_mode": {
    "name": "ipython",
    "version": 3
   },
   "file_extension": ".py",
   "mimetype": "text/x-python",
   "name": "python",
   "nbconvert_exporter": "python",
   "pygments_lexer": "ipython3",
   "version": "3.7.3"
  }
 },
 "nbformat": 4,
 "nbformat_minor": 2
}
